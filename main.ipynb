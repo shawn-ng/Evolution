{
 "cells": [
  {
   "cell_type": "code",
   "execution_count": 1,
   "metadata": {},
   "outputs": [],
   "source": [
    "import numpy as np\n",
    "import random"
   ]
  },
  {
   "cell_type": "code",
   "execution_count": 4,
   "metadata": {},
   "outputs": [
    {
     "data": {
      "text/plain": [
       "array([[0., 0., 0., 0., 0., 0., 0., 0., 0., 0.],\n",
       "       [0., 0., 0., 0., 0., 0., 0., 0., 0., 0.],\n",
       "       [0., 0., 0., 0., 0., 0., 0., 0., 0., 0.],\n",
       "       [0., 0., 0., 0., 0., 0., 0., 0., 0., 0.],\n",
       "       [0., 0., 0., 0., 0., 0., 0., 0., 0., 0.],\n",
       "       [0., 0., 0., 0., 0., 0., 0., 0., 0., 0.],\n",
       "       [0., 0., 0., 0., 0., 0., 0., 0., 0., 0.],\n",
       "       [0., 0., 0., 0., 0., 0., 0., 0., 0., 0.],\n",
       "       [0., 0., 0., 0., 0., 0., 0., 0., 0., 0.],\n",
       "       [0., 0., 0., 0., 0., 0., 0., 0., 0., 0.]])"
      ]
     },
     "execution_count": 4,
     "metadata": {},
     "output_type": "execute_result"
    }
   ],
   "source": [
    "try1 = np.zeros((10,10))"
   ]
  },
  {
   "cell_type": "code",
   "execution_count": 4,
   "metadata": {},
   "outputs": [
    {
     "name": "stdout",
     "output_type": "stream",
     "text": [
      "31\n"
     ]
    }
   ],
   "source": [
    "\"\"\"\n",
    "randomly putting sources into different places and there is no specific number of sources.\n",
    "\"\"\"\n",
    "init_sum = 0\n",
    "\n",
    "while init_sum < 10:\n",
    "    try1[1:9, 1:9] = np.random.randint(low=2, size=(8,8))\n",
    "    init_sum = int(np.count_nonzero(try1==1))\n",
    "\n",
    "print(init_sum)\n",
    "\"\"\"\n",
    "This is the process where assigning extra sources(1) into 0 randomly.\n",
    "\"\"\"\n",
    "if init_sum > 20:\n",
    "    row_list = np.nonzero(try1)[0]\n",
    "    column_list = np.nonzero(try1)[1]\n",
    "    diff_sum = init_sum - 20\n",
    "\n",
    "    alist = list(range(len(row_list)))\n",
    "    list_del = random.sample(alist, k = diff_sum)\n",
    "\n",
    "    for i in list_del:\n",
    "        try1[row_list[i]][column_list[i]] = 0\n",
    "\n"
   ]
  },
  {
   "cell_type": "code",
   "execution_count": 1,
   "metadata": {},
   "outputs": [],
   "source": [
    "import Environment.envs as env\n",
    "import Agent.agent as agent\n",
    "import numpy as np\n",
    "import matplotlib.pyplot as plt\n",
    "from matplotlib.animation import FuncAnimation\n",
    "from IPython.display import HTML"
   ]
  },
  {
   "cell_type": "code",
   "execution_count": 7,
   "metadata": {},
   "outputs": [],
   "source": [
    "# class to run the agent and the environment\n",
    "\n",
    "class GameClass():\n",
    "    \"\"\"\n",
    "    Class describing an env of the game and the interaction between the agent and the env\n",
    "\n",
    "    Procedure \n",
    "    1. creating map  \n",
    "    2. creating agent on specific location\n",
    "    3. let agent randomly move \n",
    "    4. update the map  \n",
    "    \"\"\"\n",
    "    def __init__(self):\n",
    "\n",
    "        self.env = env.gridEnvs()\n",
    "        self.agent = agent.agentClass(agent_id=2, init_loc=[0,3], sources = self.env.source , map = self.env.map)\n",
    "        print(self.env.map)\n",
    "        pass\n",
    "\n",
    "    # reset the agent when an episode begin \n",
    "    def reset(self):\n",
    "        pass\n",
    "\n",
    "    # agent take the step and interact with the environment \n",
    "    def step(self):\n",
    "        pass\n",
    "\n",
    "    # Action reward given to the agent\n",
    "    def get_rewared(self):\n",
    "        pass\n",
    "\n",
    "    # Actual action taken by the agent\n",
    "    def taken_action(self):\n",
    "\n",
    "        # Taking random action \n",
    "        random_action = np.random.randint(4)\n",
    "        \n",
    "        self.agent.agent_move(direction=random_action)\n",
    "\n"
   ]
  },
  {
   "cell_type": "code",
   "execution_count": 8,
   "metadata": {},
   "outputs": [
    {
     "name": "stdout",
     "output_type": "stream",
     "text": [
      "[[0. 0. 0. 2. 0. 0. 0. 0. 0. 0.]\n",
      " [0. 0. 1. 0. 0. 0. 0. 1. 0. 0.]\n",
      " [0. 1. 0. 0. 0. 1. 1. 0. 1. 0.]\n",
      " [0. 1. 0. 0. 0. 0. 0. 1. 0. 0.]\n",
      " [0. 0. 0. 0. 0. 1. 0. 0. 1. 0.]\n",
      " [0. 0. 0. 0. 1. 0. 0. 0. 0. 0.]\n",
      " [0. 1. 0. 0. 0. 0. 1. 0. 1. 0.]\n",
      " [0. 1. 0. 0. 0. 0. 1. 1. 0. 0.]\n",
      " [0. 1. 0. 0. 1. 0. 0. 0. 1. 0.]\n",
      " [0. 0. 0. 0. 0. 0. 0. 0. 0. 0.]]\n"
     ]
    }
   ],
   "source": [
    "game1 = GameClass()"
   ]
  },
  {
   "cell_type": "code",
   "execution_count": 9,
   "metadata": {},
   "outputs": [],
   "source": [
    "game1.taken_action()"
   ]
  },
  {
   "cell_type": "code",
   "execution_count": 10,
   "metadata": {},
   "outputs": [],
   "source": [
    "game1.taken_action()"
   ]
  },
  {
   "cell_type": "code",
   "execution_count": 11,
   "metadata": {},
   "outputs": [
    {
     "data": {
      "text/plain": [
       "array([[0., 0., 0., 0., 0., 0., 0., 0., 0., 0.],\n",
       "       [0., 0., 1., 0., 0., 0., 0., 1., 0., 0.],\n",
       "       [0., 1., 0., 0., 0., 1., 1., 0., 1., 0.],\n",
       "       [0., 1., 0., 0., 0., 0., 0., 1., 0., 0.],\n",
       "       [0., 0., 0., 0., 0., 1., 0., 0., 1., 0.],\n",
       "       [0., 0., 0., 0., 1., 0., 0., 0., 0., 0.],\n",
       "       [0., 1., 0., 0., 0., 0., 1., 0., 1., 0.],\n",
       "       [0., 1., 0., 0., 0., 0., 1., 1., 0., 0.],\n",
       "       [0., 1., 0., 0., 1., 0., 0., 0., 1., 0.],\n",
       "       [0., 0., 2., 0., 0., 0., 0., 0., 0., 0.]])"
      ]
     },
     "execution_count": 11,
     "metadata": {},
     "output_type": "execute_result"
    }
   ],
   "source": [
    "game1.env.map"
   ]
  },
  {
   "cell_type": "code",
   "execution_count": 12,
   "metadata": {},
   "outputs": [
    {
     "data": {
      "text/plain": [
       "[[0, 3], [0, 2], [-1, 2]]"
      ]
     },
     "execution_count": 12,
     "metadata": {},
     "output_type": "execute_result"
    }
   ],
   "source": [
    "game1.agent.agent_location"
   ]
  },
  {
   "cell_type": "code",
   "execution_count": 9,
   "metadata": {},
   "outputs": [
    {
     "data": {
      "image/png": "[encoded data removed]",
      "text/plain": [
       "<Figure size 500x500 with 1 Axes>"
      ]
     },
     "metadata": {},
     "output_type": "display_data"
    }
   ],
   "source": [
    "fig, ax = plt.subplots(figsize=(5,5))\n",
    "\n",
    "ax.set(xlim=(-1, 1), ylim=(-1, 1))\n",
    "string_to_type = 'abcdefghijklmnopqrstuvwxyz0123'\n",
    "label = ax.text(0, 0, string_to_type[0],\n",
    "                ha='center', va='center',\n",
    "                fontsize=12)\n",
    " \n",
    "def animate(i):\n",
    "    label.set_text(string_to_type[:i+1])\n",
    "    ax.set_ylabel('Time (s): ' + str(i/10))\n",
    "    ax.set_title('Frame ' + str(i))\n",
    "\n",
    "anim = FuncAnimation(fig, animate, frames=len(string_to_type), interval=100)\n"
   ]
  },
  {
   "cell_type": "code",
   "execution_count": 18,
   "metadata": {},
   "outputs": [
    {
     "name": "stdout",
     "output_type": "stream",
     "text": [
      "1\n",
      "1\n",
      "1\n",
      "1\n",
      "1\n",
      "1\n",
      "1\n",
      "1\n",
      "1\n",
      "1\n"
     ]
    }
   ],
   "source": [
    "a = 0\n",
    "\n",
    "for i in range(10):\n",
    "    a=1\n",
    "    print(a)"
   ]
  },
  {
   "cell_type": "code",
   "execution_count": null,
   "metadata": {},
   "outputs": [],
   "source": []
  }
 ],
 "metadata": {
  "kernelspec": {
   "display_name": "Python 3.10.8 64-bit",
   "language": "python",
   "name": "python3"
  },
  "language_info": {
   "codemirror_mode": {
    "name": "ipython",
    "version": 3
   },
   "file_extension": ".py",
   "mimetype": "text/x-python",
   "name": "python",
   "nbconvert_exporter": "python",
   "pygments_lexer": "ipython3",
   "version": "3.10.8"
  },
  "orig_nbformat": 4,
  "vscode": {
   "interpreter": {
    "hash": "369f2c481f4da34e4445cda3fffd2e751bd1c4d706f27375911949ba6bb62e1c"
   }
  }
 },
 "nbformat": 4,
 "nbformat_minor": 2
}
