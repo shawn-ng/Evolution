{
 "cells": [
  {
   "cell_type": "code",
   "execution_count": 1,
   "metadata": {},
   "outputs": [
    {
     "data": {
      "text/plain": [
       "[[10, 10, 10, 10, 10],\n",
       " [10, 10, 10, 10, 10],\n",
       " [10, 10, 10, 10, 10],\n",
       " [10, 10, 10, 10, 10],\n",
       " [10, 10, 10, 10, 10]]"
      ]
     },
     "execution_count": 1,
     "metadata": {},
     "output_type": "execute_result"
    }
   ],
   "source": [
    "import numpy as np\n",
    "x = 10\n",
    "[[x for column in range(5)] for row in range(5)]"
   ]
  },
  {
   "cell_type": "code",
   "execution_count": 40,
   "metadata": {},
   "outputs": [
    {
     "data": {
      "text/plain": [
       "[[[50, 50], [50, 50], [50, 50], [50, 50], [50, 50]],\n",
       " [[50, 50], [50, 50], [50, 50], [50, 50], [50, 50]],\n",
       " [[50, 50], [50, 50], [50, 50], [50, 50], [50, 50]],\n",
       " [[50, 50], [50, 50], [50, 50], [50, 50], [50, 50]],\n",
       " [[50, 50], [50, 50], [50, 50], [50, 50], [50, 50]]]"
      ]
     },
     "execution_count": 40,
     "metadata": {},
     "output_type": "execute_result"
    }
   ],
   "source": [
    "y = 50\n",
    "listtry1 = [[[y for column in range(2)] for column in range(5)] for row in range(5)]\n",
    "listtry1"
   ]
  },
  {
   "cell_type": "code",
   "execution_count": 84,
   "metadata": {},
   "outputs": [
    {
     "data": {
      "text/plain": [
       "[[[470, -20], [480, -20], [490, -20], [500, -20], [510, -20]],\n",
       " [[470, -10], [480, -10], [490, -10], [500, -10], [510, -10]],\n",
       " [[470, 0], [480, 0], [490, 0], [500, 0], [510, 0]],\n",
       " [[470, 10], [480, 10], [490, 10], [500, 10], [510, 10]],\n",
       " [[470, 20], [480, 20], [490, 20], [500, 20], [510, 20]]]"
      ]
     },
     "execution_count": 84,
     "metadata": {},
     "output_type": "execute_result"
    }
   ],
   "source": [
    "x = 490\n",
    "y = 0\n",
    "listtry = [[[x,y] for column in range(5)] for row in range(5)]\n",
    "\n",
    "list_to_delete = []\n",
    "\n",
    "for i in range(len(listtry)):\n",
    "    for j in range(len(listtry[i])):\n",
    "        value_x = 10 * (j - 2)\n",
    "        value_y = 10 * (i - 2)\n",
    "        listtry[i][j][0] +=  value_x\n",
    "        listtry[i][j][1] +=  value_y\n",
    "\n",
    "        if listtry[i][j][0] < 0 or listtry[i][j][0] > 490 or listtry[i][j][1] < 0 or listtry[i][j][1] > 490:\n",
    "            delete_coor = [i,j]\n",
    "            list_to_delete.append(delete_coor)\n",
    "\n",
    "listtry"
   ]
  },
  {
   "cell_type": "code",
   "execution_count": 85,
   "metadata": {},
   "outputs": [
    {
     "data": {
      "text/plain": [
       "[[470, 0],\n",
       " [480, 0],\n",
       " [490, 0],\n",
       " [470, 10],\n",
       " [480, 10],\n",
       " [490, 10],\n",
       " [470, 20],\n",
       " [480, 20],\n",
       " [490, 20]]"
      ]
     },
     "execution_count": 85,
     "metadata": {},
     "output_type": "execute_result"
    }
   ],
   "source": [
    "for i in reversed(list_to_delete):\n",
    "    del listtry[i[0]][i[1]]\n",
    "\n",
    "vision = [item for list in listtry for item in list]\n",
    "\n",
    "vision"
   ]
  },
  {
   "cell_type": "code",
   "execution_count": 86,
   "metadata": {},
   "outputs": [
    {
     "data": {
      "text/plain": [
       "[[],\n",
       " [],\n",
       " [[470, 0], [480, 0], [490, 0]],\n",
       " [[470, 10], [480, 10], [490, 10]],\n",
       " [[470, 20], [480, 20], [490, 20]]]"
      ]
     },
     "execution_count": 86,
     "metadata": {},
     "output_type": "execute_result"
    }
   ],
   "source": [
    "listtry"
   ]
  },
  {
   "cell_type": "code",
   "execution_count": 3,
   "metadata": {},
   "outputs": [
    {
     "data": {
      "text/plain": [
       "False"
      ]
     },
     "execution_count": 3,
     "metadata": {},
     "output_type": "execute_result"
    }
   ],
   "source": [
    "[20, 0] not in [[290, 210], [20, 0], [310, 210], [320, 210], [330, 210], [290, 220], [300, 220], [310, 220], [320, 220], [330, 220], [290, 230], [300, 230], [320, 230], [330, 230], [290, 240], [300, 240], [310, 240], [320, 240], [330, 240], [290, 250], [300, 250], [310, 250], [320, 250], [330, 250]]"
   ]
  },
  {
   "cell_type": "code",
   "execution_count": 6,
   "metadata": {},
   "outputs": [
    {
     "data": {
      "text/plain": [
       "array([[0., 0., 0., 0., 0., 0., 0., 0., 0., 0.]])"
      ]
     },
     "execution_count": 6,
     "metadata": {},
     "output_type": "execute_result"
    }
   ],
   "source": [
    "try_ = np.zeros((1,10))\n",
    "try_"
   ]
  },
  {
   "cell_type": "code",
   "execution_count": null,
   "metadata": {},
   "outputs": [],
   "source": [
    "while not game.crash:\n",
    "            #agent.epsilon is set to give randomness to actions\n",
    "            agent.epsilon = 80 - counter_games\n",
    "            \n",
    "            #get old state\n",
    "            state_old = agent.get_state(game, player1, food1)\n",
    "            \n",
    "            #perform random actions based on agent.epsilon, or  choose the action\n",
    "            if randint(0, 1) < agent.epsilon:\n",
    "                final_move = to_categorical(randint(0, 2), num_classes=3)\n",
    "            else:\n",
    "                # predict action based on the old state\n",
    "                prediction = agent.model.predict(state_old.reshape((1,11)))\n",
    "                final_move = to_categorical(np.argmax(prediction[0]), num_classes=3)[0]\n",
    "                \n",
    "            #perform new move and get new state\n",
    "            player1.do_move(final_move, player1.x, player1.y, game, food1, agent)\n",
    "            state_new = agent.get_state(game, player1, food1)\n",
    "            \n",
    "            #set treward for the new state\n",
    "            reward = agent.set_reward(player1, game.crash)\n",
    "            \n",
    "            #train short memory base on the new action and state\n",
    "            agent.train_short_memory(state_old, final_move, reward, state_new, game.crash)\n",
    "            \n",
    "            # store the new data into a long term memory\n",
    "            agent.remember(state_old, final_move, reward, state_new, game.crash)\n",
    "            record = get_record(game.score, record)"
   ]
  }
 ],
 "metadata": {
  "kernelspec": {
   "display_name": "Python 3.10.8 64-bit",
   "language": "python",
   "name": "python3"
  },
  "language_info": {
   "codemirror_mode": {
    "name": "ipython",
    "version": 3
   },
   "file_extension": ".py",
   "mimetype": "text/x-python",
   "name": "python",
   "nbconvert_exporter": "python",
   "pygments_lexer": "ipython3",
   "version": "3.10.8"
  },
  "orig_nbformat": 4,
  "vscode": {
   "interpreter": {
    "hash": "369f2c481f4da34e4445cda3fffd2e751bd1c4d706f27375911949ba6bb62e1c"
   }
  }
 },
 "nbformat": 4,
 "nbformat_minor": 2
}
